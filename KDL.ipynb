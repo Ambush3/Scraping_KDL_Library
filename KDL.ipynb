{
 "cells": [
  {
   "cell_type": "code",
   "execution_count": 2,
   "outputs": [],
   "source": [
    "from bs4 import BeautifulSoup\n",
    "from requests import get\n",
    "import pandas as pd\n",
    "import seaborn as sns\n",
    "import csv\n",
    "sns.set()\n"
   ],
   "metadata": {
    "collapsed": false,
    "pycharm": {
     "name": "#%% import libraries\n"
    }
   }
  },
  {
   "cell_type": "code",
   "execution_count": 3,
   "outputs": [],
   "source": [
    "headers = ({'User-Agent':\n",
    "            'Mozilla/5.0 (Windows NT 6.1) AppleWebKit/537.36 (KHTML, like Gecko) Chrome/41.0.2228.0 Safari/537.36'})\n",
    "\n",
    "library = \"https://kdl.bibliocommons.com/list/share/1709633629_kdl_earlyliteracy/1992750309_picture_books_for_grateful_readers\"\n",
    "\n",
    "response = get(library, headers=headers)"
   ],
   "metadata": {
    "collapsed": false,
    "pycharm": {
     "name": "#%% Define a header to pass the get command. Making it look like a legit browser is accessing the site.\n"
    }
   }
  },
  {
   "cell_type": "code",
   "execution_count": 4,
   "outputs": [
    {
     "name": "stdout",
     "output_type": "stream",
     "text": [
      "<Response [200]>\n",
      "<!-- APPLICATION LAYOUT -->\n",
      "\n",
      "\n",
      "\n",
      "\n",
      "\n",
      "<!DOCTYPE html>\n",
      "<html xmlns:og=\"http://ogp.me/ns#\" lang=\"en-US\">\n",
      "<head>\n",
      "  <!-- Data Layer -->\n",
      "<script>\n",
      "  window.dataLayer = window.dataLayer || [{\"bc.siteId\":\"MI-KENT-KDL\",\"bc.libraryId\":174,\"bc.localBranch\":null,\"bc.shortName\":\"KDL\",\"bc.longName\":\"Kent District Library\",\"bc.domain\":\"kdl\",\"bc.externalGaId\":\"UA-1801889-1\",\"bc.gaCrossDomainNames\":[],\"bc.gaCrossDomainEnabled\":true,\"bc.cmsEnabled\":true,\"bc.cmsUrl\":\"https://kdl.org\",\"bc.crazyEggId\":\"00178067\",\"bc.allowGoogleAdFeatures\":false,\"bc.product\":\"core\",\"bc.branch\":null,\"bc.version\":\"Version 9.3.4 Last updated 2021/11/09 12:49 [cor-liv-app08]\"}];\n",
      "</script>\n",
      "<!-- end Data Layer -->\n",
      "<!-- Start Google Tag Manager-->\n",
      "<script>(function(w,d,s,l,i)\n",
      "{\n",
      "  w[l]=w[l]||[];w[l].push({'gtm.start': new Date().getTime(),event:'gtm.js'});\n",
      "  \n",
      "  var f=d.getElementsByTagName(s)[0], j=d.createElement(s),dl=l!='dataLayer'?'&l='+l:'';\n",
      "  \n",
      "  j.async=true;\n",
      "  j.src='https://www.googletagmanager.com/gtm.js?id='+i+dl+'';\n",
      "  f.paren\n"
     ]
    }
   ],
   "source": [
    "print(response)\n",
    "\n",
    "print(response.text[:1000])"
   ],
   "metadata": {
    "collapsed": false,
    "pycharm": {
     "name": "#%% Testing connection and first 1000 char.\n"
    }
   }
  },
  {
   "cell_type": "code",
   "execution_count": 5,
   "outputs": [],
   "source": [
    "html_soup = BeautifulSoup(response.text, 'html.parser')\n",
    "\n",
    "results = html_soup.find('div', class_=\"row body_block\")\n",
    "# print(results.prettify())\n",
    "\n",
    "book_elements = results.find_all('div', class_=\"listItem bg_white col-xs-12\")\n",
    "\n",
    "# def save_html(html, path):\n",
    "#     with open(path, 'wb') as f:\n",
    "#         f.write(html)\n",
    "# save_html(r.content, 'KDL Library')"
   ],
   "metadata": {
    "collapsed": false,
    "pycharm": {
     "name": "#%%\n"
    }
   }
  },
  {
   "cell_type": "code",
   "execution_count": 6,
   "outputs": [
    {
     "name": "stdout",
     "output_type": "stream",
     "text": [
      "<div class=\"list_item_title\">\n",
      "<a data-analytics='{\"event\":\"bc.clickOnBibTitleLink\",\"payload\":{\"gtmCategory\":\"v2-page-interactions\",\"gtmAction\":\"v2-title-click\",\"gtmLabel\":\"bib-title\",\"gtmValue\":1}}' href=\"/item/show/749994174\">What I Like Most</a>\n",
      "</div>\n",
      "<div class=\"list_item_author\">\n",
      "            by <a data-analytics='{\"event\":\"bc.clickOnAuthorLink\",\"payload\":{\"gtmCategory\":\"v2-page-interactions\",\"gtmAction\":\"v2-link-click\",\"gtmLabel\":\"bib-author\",\"gtmValue\":1}}' href=\"/search?q=%22Murphy%2C+Mary%22&amp;search_category=author&amp;t=author\" target=\"_parent\" testid=\"author_search\">Murphy, Mary</a>\n",
      "<br/>\n",
      "</div>\n",
      "<div ?=\"\" class=\"list_item_format\">\n",
      "<i aria-hidden=\"true\" class=\"icon-book-open\"></i>\n",
      "          Picture Book - 2020<br/>\n",
      "</div>\n",
      "<span class=\"label availability\">\n",
      "<span class=\"item_available\" role=\"presentation\" testid=\"item_availability\">Available </span>\n",
      "<a class=\"circInfo value underlined location_info\" data-analytics='{\"event\":\"bc.checkAvailability\",\"payload\":{\"gtmCategory\":\"v2-availability\",\"gtmLabel\":\"available | in some locations\",\"gtmAction\":\"v2-view\",\"gtmValue\":1}}' href=\"/item/show_circulation/749994174?search_scope=KDL\" id=\"circ_info_trigger_749994174_0.5138027720959892\" role=\"button\" testid=\"availability_details\">in some locations</a>\n",
      "</span>\n",
      "\n",
      "<div class=\"list_item_title\">\n",
      "<a data-analytics='{\"event\":\"bc.clickOnBibTitleLink\",\"payload\":{\"gtmCategory\":\"v2-page-interactions\",\"gtmAction\":\"v2-title-click\",\"gtmLabel\":\"bib-title\",\"gtmValue\":1}}' href=\"/item/show/655552174\">Look and Be Grateful</a>\n",
      "</div>\n",
      "<div class=\"list_item_author\">\n",
      "            by <a data-analytics='{\"event\":\"bc.clickOnAuthorLink\",\"payload\":{\"gtmCategory\":\"v2-page-interactions\",\"gtmAction\":\"v2-link-click\",\"gtmLabel\":\"bib-author\",\"gtmValue\":1}}' href=\"/search?q=%22DePaola%2C+Tomie%22&amp;search_category=author&amp;t=author\" target=\"_parent\" testid=\"author_search\">DePaola, Tomie</a>\n",
      "<br/>\n",
      "</div>\n",
      "<div ?=\"\" class=\"list_item_format\">\n",
      "<i aria-hidden=\"true\" class=\"icon-book\"></i>\n",
      "          Board Book - 2019<br/>\n",
      "</div>\n",
      "<span class=\"label availability\">\n",
      "<span class=\"item_available\" role=\"presentation\" testid=\"item_availability\">Available </span>\n",
      "<a class=\"circInfo value underlined location_info\" data-analytics='{\"event\":\"bc.checkAvailability\",\"payload\":{\"gtmCategory\":\"v2-availability\",\"gtmLabel\":\"available | in some locations\",\"gtmAction\":\"v2-view\",\"gtmValue\":1}}' href=\"/item/show_circulation/655552174?search_scope=KDL\" id=\"circ_info_trigger_655552174_0.3112694167226534\" role=\"button\" testid=\"availability_details\">in some locations</a>\n",
      "</span>\n",
      "\n",
      "<div class=\"list_item_title\">\n",
      "<a data-analytics='{\"event\":\"bc.clickOnBibTitleLink\",\"payload\":{\"gtmCategory\":\"v2-page-interactions\",\"gtmAction\":\"v2-title-click\",\"gtmLabel\":\"bib-title\",\"gtmValue\":1}}' href=\"/item/show/620536174\">The Thank You Book</a>\n",
      "</div>\n",
      "<div class=\"list_item_author\">\n",
      "            by <a data-analytics='{\"event\":\"bc.clickOnAuthorLink\",\"payload\":{\"gtmCategory\":\"v2-page-interactions\",\"gtmAction\":\"v2-link-click\",\"gtmLabel\":\"bib-author\",\"gtmValue\":1}}' href=\"/search?q=%22Ray%2C+Mary+Lyn%22&amp;search_category=author&amp;t=author\" target=\"_parent\" testid=\"author_search\">Ray, Mary Lyn</a>\n",
      "<br/>\n",
      "</div>\n",
      "<div ?=\"\" class=\"list_item_format\">\n",
      "<i aria-hidden=\"true\" class=\"icon-book-open\"></i>\n",
      "          Picture Book - 2018<br/>\n",
      "</div>\n",
      "<span class=\"label availability\">\n",
      "<span class=\"item_not_available\" role=\"presentation\" testid=\"item_availability\">All copies in use </span>\n",
      "<a class=\"circInfo value underlined location_info\" data-analytics='{\"event\":\"bc.checkAvailability\",\"payload\":{\"gtmCategory\":\"v2-availability\",\"gtmLabel\":\"all copies in use | availability details\",\"gtmAction\":\"v2-view\",\"gtmValue\":1}}' href=\"/item/show_circulation/620536174?search_scope=KDL\" id=\"circ_info_trigger_620536174_0.39550532348188705\" role=\"button\" testid=\"availability_details\">Availability details</a>\n",
      "</span>\n",
      "\n",
      "<div class=\"list_item_title\">\n",
      "<a data-analytics='{\"event\":\"bc.clickOnBibTitleLink\",\"payload\":{\"gtmCategory\":\"v2-page-interactions\",\"gtmAction\":\"v2-title-click\",\"gtmLabel\":\"bib-title\",\"gtmValue\":1}}' href=\"/item/show/746684174\">Thank You Bees</a>\n",
      "</div>\n",
      "<div class=\"list_item_author\">\n",
      "            by <a data-analytics='{\"event\":\"bc.clickOnAuthorLink\",\"payload\":{\"gtmCategory\":\"v2-page-interactions\",\"gtmAction\":\"v2-link-click\",\"gtmLabel\":\"bib-author\",\"gtmValue\":1}}' href=\"/search?q=%22Yuly%2C+Toni%22&amp;search_category=author&amp;t=author\" target=\"_parent\" testid=\"author_search\">Yuly, Toni</a>\n",
      "<br/>\n",
      "</div>\n",
      "<div ?=\"\" class=\"list_item_format\">\n",
      "<i aria-hidden=\"true\" class=\"icon-book\"></i>\n",
      "          Board Book - 2020<br/>\n",
      "</div>\n",
      "<span class=\"label availability\">\n",
      "<span class=\"item_available\" role=\"presentation\" testid=\"item_availability\">Available </span>\n",
      "<a class=\"circInfo value underlined location_info\" data-analytics='{\"event\":\"bc.checkAvailability\",\"payload\":{\"gtmCategory\":\"v2-availability\",\"gtmLabel\":\"available | in some locations\",\"gtmAction\":\"v2-view\",\"gtmValue\":1}}' href=\"/item/show_circulation/746684174?search_scope=KDL\" id=\"circ_info_trigger_746684174_0.6161095785447447\" role=\"button\" testid=\"availability_details\">in some locations</a>\n",
      "</span>\n",
      "\n",
      "<div class=\"list_item_title\">\n",
      "<a data-analytics='{\"event\":\"bc.clickOnBibTitleLink\",\"payload\":{\"gtmCategory\":\"v2-page-interactions\",\"gtmAction\":\"v2-title-click\",\"gtmLabel\":\"bib-title\",\"gtmValue\":1}}' href=\"/item/show/704253174\">Apple Cake</a>\n",
      "</div>\n",
      "<div class=\"list_item_author\">\n",
      "            by <a data-analytics='{\"event\":\"bc.clickOnAuthorLink\",\"payload\":{\"gtmCategory\":\"v2-page-interactions\",\"gtmAction\":\"v2-link-click\",\"gtmLabel\":\"bib-author\",\"gtmValue\":1}}' href=\"/search?q=%22Casey%2C+Dawn%22&amp;search_category=author&amp;t=author\" target=\"_parent\" testid=\"author_search\">Casey, Dawn</a>\n",
      "<br/>\n",
      "</div>\n",
      "<div ?=\"\" class=\"list_item_format\">\n",
      "<i aria-hidden=\"true\" class=\"icon-book-open\"></i>\n",
      "          Picture Book - 2019<br/>\n",
      "</div>\n",
      "<span class=\"label availability\">\n",
      "<span class=\"item_not_available\" role=\"presentation\" testid=\"item_availability\">All copies in use </span>\n",
      "<a class=\"circInfo value underlined location_info\" data-analytics='{\"event\":\"bc.checkAvailability\",\"payload\":{\"gtmCategory\":\"v2-availability\",\"gtmLabel\":\"all copies in use | availability details\",\"gtmAction\":\"v2-view\",\"gtmValue\":1}}' href=\"/item/show_circulation/704253174?search_scope=KDL\" id=\"circ_info_trigger_704253174_0.347316997237315\" role=\"button\" testid=\"availability_details\">Availability details</a>\n",
      "</span>\n",
      "\n",
      "<div class=\"list_item_title\">\n",
      "<a data-analytics='{\"event\":\"bc.clickOnBibTitleLink\",\"payload\":{\"gtmCategory\":\"v2-page-interactions\",\"gtmAction\":\"v2-title-click\",\"gtmLabel\":\"bib-title\",\"gtmValue\":1}}' href=\"/item/show/285860174\">Thankful</a>\n",
      "</div>\n",
      "<div class=\"list_item_author\">\n",
      "            by <a data-analytics='{\"event\":\"bc.clickOnAuthorLink\",\"payload\":{\"gtmCategory\":\"v2-page-interactions\",\"gtmAction\":\"v2-link-click\",\"gtmLabel\":\"bib-author\",\"gtmValue\":1}}' href=\"/search?q=%22Spinelli%2C+Eileen%22&amp;search_category=author&amp;t=author\" target=\"_parent\" testid=\"author_search\">Spinelli, Eileen</a>\n",
      "<br/>\n",
      "</div>\n",
      "<div ?=\"\" class=\"list_item_format\">\n",
      "<i aria-hidden=\"true\" class=\"icon-book-open\"></i>\n",
      "          Picture Book - 2015<br/>\n",
      "</div>\n",
      "<span class=\"label availability\">\n",
      "<span class=\"item_not_available\" role=\"presentation\" testid=\"item_availability\">All copies in use </span>\n",
      "<a class=\"circInfo value underlined location_info\" data-analytics='{\"event\":\"bc.checkAvailability\",\"payload\":{\"gtmCategory\":\"v2-availability\",\"gtmLabel\":\"all copies in use | availability details\",\"gtmAction\":\"v2-view\",\"gtmValue\":1}}' href=\"/item/show_circulation/285860174?search_scope=KDL\" id=\"circ_info_trigger_285860174_0.8759219029340735\" role=\"button\" testid=\"availability_details\">Availability details</a>\n",
      "</span>\n",
      "\n",
      "<div class=\"list_item_title\">\n",
      "<a data-analytics='{\"event\":\"bc.clickOnBibTitleLink\",\"payload\":{\"gtmCategory\":\"v2-page-interactions\",\"gtmAction\":\"v2-title-click\",\"gtmLabel\":\"bib-title\",\"gtmValue\":1}}' href=\"/item/show/809639174\">Sometimes It's Hard to Be Nice</a>\n",
      "</div>\n",
      "<div class=\"list_item_author\">\n",
      "            by <a data-analytics='{\"event\":\"bc.clickOnAuthorLink\",\"payload\":{\"gtmCategory\":\"v2-page-interactions\",\"gtmAction\":\"v2-link-click\",\"gtmLabel\":\"bib-author\",\"gtmValue\":1}}' href=\"/search?q=%22Rudd%2C+Maggie%22&amp;search_category=author&amp;t=author\" target=\"_parent\" testid=\"author_search\">Rudd, Maggie</a>\n",
      "<br/>\n",
      "</div>\n",
      "<div ?=\"\" class=\"list_item_format\">\n",
      "<i aria-hidden=\"true\" class=\"icon-book-open\"></i>\n",
      "          Picture Book - 2021<br/>\n",
      "</div>\n",
      "<span class=\"label availability\">\n",
      "<span class=\"item_available\" role=\"presentation\" testid=\"item_availability\">Available </span>\n",
      "<a class=\"circInfo value underlined location_info\" data-analytics='{\"event\":\"bc.checkAvailability\",\"payload\":{\"gtmCategory\":\"v2-availability\",\"gtmLabel\":\"available | in some locations\",\"gtmAction\":\"v2-view\",\"gtmValue\":1}}' href=\"/item/show_circulation/809639174?search_scope=KDL\" id=\"circ_info_trigger_809639174_0.7192409092216827\" role=\"button\" testid=\"availability_details\">in some locations</a>\n",
      "</span>\n",
      "\n",
      "<div class=\"list_item_title\">\n",
      "<a data-analytics='{\"event\":\"bc.clickOnBibTitleLink\",\"payload\":{\"gtmCategory\":\"v2-page-interactions\",\"gtmAction\":\"v2-title-click\",\"gtmLabel\":\"bib-title\",\"gtmValue\":1}}' href=\"/item/show/177434174\">Bear Says Thanks</a>\n",
      "</div>\n",
      "<div class=\"list_item_author\">\n",
      "            by <a data-analytics='{\"event\":\"bc.clickOnAuthorLink\",\"payload\":{\"gtmCategory\":\"v2-page-interactions\",\"gtmAction\":\"v2-link-click\",\"gtmLabel\":\"bib-author\",\"gtmValue\":1}}' href=\"/search?q=%22Wilson%2C+Karma%22&amp;search_category=author&amp;t=author\" target=\"_parent\" testid=\"author_search\">Wilson, Karma</a>\n",
      "<br/>\n",
      "</div>\n",
      "<div ?=\"\" class=\"list_item_format\">\n",
      "<i aria-hidden=\"true\" class=\"icon-book-open\"></i>\n",
      "          Picture Book - 2012<br/>\n",
      "</div>\n",
      "<span class=\"label availability\">\n",
      "<span class=\"item_not_available\" role=\"presentation\" testid=\"item_availability\">All copies in use </span>\n",
      "<a class=\"circInfo value underlined location_info\" data-analytics='{\"event\":\"bc.checkAvailability\",\"payload\":{\"gtmCategory\":\"v2-availability\",\"gtmLabel\":\"all copies in use | availability details\",\"gtmAction\":\"v2-view\",\"gtmValue\":1}}' href=\"/item/show_circulation/177434174?search_scope=KDL\" id=\"circ_info_trigger_177434174_0.8609053435625397\" role=\"button\" testid=\"availability_details\">Availability details</a>\n",
      "</span>\n",
      "\n",
      "<div class=\"list_item_title\">\n",
      "<a data-analytics='{\"event\":\"bc.clickOnBibTitleLink\",\"payload\":{\"gtmCategory\":\"v2-page-interactions\",\"gtmAction\":\"v2-title-click\",\"gtmLabel\":\"bib-title\",\"gtmValue\":1}}' href=\"/item/show/108665174\">All of Me!</a>\n",
      "</div>\n",
      "<div class=\"list_item_author\">\n",
      "            by <a data-analytics='{\"event\":\"bc.clickOnAuthorLink\",\"payload\":{\"gtmCategory\":\"v2-page-interactions\",\"gtmAction\":\"v2-link-click\",\"gtmLabel\":\"bib-author\",\"gtmValue\":1}}' href=\"/search?q=%22Bang%2C+Molly%22&amp;search_category=author&amp;t=author\" target=\"_parent\" testid=\"author_search\">Bang, Molly</a>\n",
      "<br/>\n",
      "</div>\n",
      "<div ?=\"\" class=\"list_item_format\">\n",
      "<i aria-hidden=\"true\" class=\"icon-book-open\"></i>\n",
      "          Picture Book - 2009<br/>\n",
      "</div>\n",
      "<span class=\"label availability\">\n",
      "<span class=\"item_available\" role=\"presentation\" testid=\"item_availability\">Available </span>\n",
      "<a class=\"circInfo value underlined location_info\" data-analytics='{\"event\":\"bc.checkAvailability\",\"payload\":{\"gtmCategory\":\"v2-availability\",\"gtmLabel\":\"available | in some locations\",\"gtmAction\":\"v2-view\",\"gtmValue\":1}}' href=\"/item/show_circulation/108665174?search_scope=KDL\" id=\"circ_info_trigger_108665174_0.17686581084200714\" role=\"button\" testid=\"availability_details\">in some locations</a>\n",
      "</span>\n",
      "\n",
      "<div class=\"list_item_title\">\n",
      "<a data-analytics='{\"event\":\"bc.clickOnBibTitleLink\",\"payload\":{\"gtmCategory\":\"v2-page-interactions\",\"gtmAction\":\"v2-title-click\",\"gtmLabel\":\"bib-title\",\"gtmValue\":1}}' href=\"/item/show/804039174\">Lala's Words</a>\n",
      "</div>\n",
      "<div class=\"list_item_author\">\n",
      "            by <a data-analytics='{\"event\":\"bc.clickOnAuthorLink\",\"payload\":{\"gtmCategory\":\"v2-page-interactions\",\"gtmAction\":\"v2-link-click\",\"gtmLabel\":\"bib-author\",\"gtmValue\":1}}' href=\"/search?q=%22Zhang%2C+Gracey%22&amp;search_category=author&amp;t=author\" target=\"_parent\" testid=\"author_search\">Zhang, Gracey</a>\n",
      "<br/>\n",
      "</div>\n",
      "<div ?=\"\" class=\"list_item_format\">\n",
      "<i aria-hidden=\"true\" class=\"icon-book-open\"></i>\n",
      "          Picture Book - 2021<br/>\n",
      "</div>\n",
      "<span class=\"label availability\">\n",
      "<span class=\"item_available\" role=\"presentation\" testid=\"item_availability\">Available </span>\n",
      "<a class=\"circInfo value underlined location_info\" data-analytics='{\"event\":\"bc.checkAvailability\",\"payload\":{\"gtmCategory\":\"v2-availability\",\"gtmLabel\":\"available | in some locations\",\"gtmAction\":\"v2-view\",\"gtmValue\":1}}' href=\"/item/show_circulation/804039174?search_scope=KDL\" id=\"circ_info_trigger_804039174_0.4743002391639751\" role=\"button\" testid=\"availability_details\">in some locations</a>\n",
      "</span>\n",
      "\n",
      "<div class=\"list_item_title\">\n",
      "<a data-analytics='{\"event\":\"bc.clickOnBibTitleLink\",\"payload\":{\"gtmCategory\":\"v2-page-interactions\",\"gtmAction\":\"v2-title-click\",\"gtmLabel\":\"bib-title\",\"gtmValue\":1}}' href=\"/item/show/628748174\">The Thankful Book</a>\n",
      "</div>\n",
      "<div class=\"list_item_author\">\n",
      "            by <a data-analytics='{\"event\":\"bc.clickOnAuthorLink\",\"payload\":{\"gtmCategory\":\"v2-page-interactions\",\"gtmAction\":\"v2-link-click\",\"gtmLabel\":\"bib-author\",\"gtmValue\":1}}' href=\"/search?q=%22Parr%2C+Todd%22&amp;search_category=author&amp;t=author\" target=\"_parent\" testid=\"author_search\">Parr, Todd</a>\n",
      "<br/>\n",
      "</div>\n",
      "<div ?=\"\" class=\"list_item_format\">\n",
      "<i aria-hidden=\"true\" class=\"icon-book\"></i>\n",
      "          Board Book - 2018<br/>\n",
      "</div>\n",
      "<span class=\"label availability\">\n",
      "<span class=\"item_available\" role=\"presentation\" testid=\"item_availability\">Available </span>\n",
      "<a class=\"circInfo value underlined location_info\" data-analytics='{\"event\":\"bc.checkAvailability\",\"payload\":{\"gtmCategory\":\"v2-availability\",\"gtmLabel\":\"available | in some locations\",\"gtmAction\":\"v2-view\",\"gtmValue\":1}}' href=\"/item/show_circulation/628748174?search_scope=KDL\" id=\"circ_info_trigger_628748174_0.09745043886389682\" role=\"button\" testid=\"availability_details\">in some locations</a>\n",
      "</span>\n",
      "\n",
      "<div class=\"list_item_title\">\n",
      "<a data-analytics='{\"event\":\"bc.clickOnBibTitleLink\",\"payload\":{\"gtmCategory\":\"v2-page-interactions\",\"gtmAction\":\"v2-title-click\",\"gtmLabel\":\"bib-title\",\"gtmValue\":1}}' href=\"/item/show/799215174\">A Small Kindness</a>\n",
      "</div>\n",
      "<div class=\"list_item_author\">\n",
      "            by <a data-analytics='{\"event\":\"bc.clickOnAuthorLink\",\"payload\":{\"gtmCategory\":\"v2-page-interactions\",\"gtmAction\":\"v2-link-click\",\"gtmLabel\":\"bib-author\",\"gtmValue\":1}}' href=\"/search?q=%22McAnulty%2C+Stacy%22&amp;search_category=author&amp;t=author\" target=\"_parent\" testid=\"author_search\">McAnulty, Stacy</a>\n",
      "<br/>\n",
      "</div>\n",
      "<div ?=\"\" class=\"list_item_format\">\n",
      "<i aria-hidden=\"true\" class=\"icon-book-open\"></i>\n",
      "          Picture Book - 2021<br/>\n",
      "</div>\n",
      "<span class=\"label availability\">\n",
      "<span class=\"item_available\" role=\"presentation\" testid=\"item_availability\">Available </span>\n",
      "<a class=\"circInfo value underlined location_info\" data-analytics='{\"event\":\"bc.checkAvailability\",\"payload\":{\"gtmCategory\":\"v2-availability\",\"gtmLabel\":\"available | in some locations\",\"gtmAction\":\"v2-view\",\"gtmValue\":1}}' href=\"/item/show_circulation/799215174?search_scope=KDL\" id=\"circ_info_trigger_799215174_0.6296354530401899\" role=\"button\" testid=\"availability_details\">in some locations</a>\n",
      "</span>\n",
      "\n",
      "<div class=\"list_item_title\">\n",
      "<a data-analytics='{\"event\":\"bc.clickOnBibTitleLink\",\"payload\":{\"gtmCategory\":\"v2-page-interactions\",\"gtmAction\":\"v2-title-click\",\"gtmLabel\":\"bib-title\",\"gtmValue\":1}}' href=\"/item/show/513750174\">Thanks From the Very Hungry Caterpillar</a>\n",
      "</div>\n",
      "<div class=\"list_item_author\">\n",
      "            by <a data-analytics='{\"event\":\"bc.clickOnAuthorLink\",\"payload\":{\"gtmCategory\":\"v2-page-interactions\",\"gtmAction\":\"v2-link-click\",\"gtmLabel\":\"bib-author\",\"gtmValue\":1}}' href=\"/search?q=%22Carle%2C+Eric%22&amp;search_category=author&amp;t=author\" target=\"_parent\" testid=\"author_search\">Carle, Eric</a>\n",
      "<br/>\n",
      "</div>\n",
      "<div ?=\"\" class=\"list_item_format\">\n",
      "<i aria-hidden=\"true\" class=\"icon-book-open\"></i>\n",
      "          Picture Book - 2017<br/>\n",
      "</div>\n",
      "<span class=\"label availability\">\n",
      "<span class=\"item_available\" role=\"presentation\" testid=\"item_availability\">Available </span>\n",
      "<a class=\"circInfo value underlined location_info\" data-analytics='{\"event\":\"bc.checkAvailability\",\"payload\":{\"gtmCategory\":\"v2-availability\",\"gtmLabel\":\"available | in some locations\",\"gtmAction\":\"v2-view\",\"gtmValue\":1}}' href=\"/item/show_circulation/513750174?search_scope=KDL\" id=\"circ_info_trigger_513750174_0.1243671849626019\" role=\"button\" testid=\"availability_details\">in some locations</a>\n",
      "</span>\n",
      "\n"
     ]
    }
   ],
   "source": [
    "for book_element in book_elements:\n",
    "    title_element = book_element.find('div', class_=\"list_item_title\")\n",
    "    author_element = book_element.find('div', class_=\"list_item_author\")\n",
    "    format_element = book_element.find('div', class_=\"list_item_format\")\n",
    "    available_element = book_element.find('span', class_=\"label availability\")\n",
    "    print(title_element)\n",
    "    print(author_element)\n",
    "    print(format_element)\n",
    "    print(available_element)\n",
    "    print()\n",
    "\n"
   ],
   "metadata": {
    "collapsed": false,
    "pycharm": {
     "name": "#%%\n"
    }
   }
  },
  {
   "cell_type": "code",
   "execution_count": 7,
   "outputs": [
    {
     "name": "stdout",
     "output_type": "stream",
     "text": [
      "\n",
      "What I Like Most\n",
      "\n",
      "\n",
      "            by Murphy, Mary\n",
      "\n",
      "\n",
      "\n",
      "\n",
      "          Picture Book - 2020\n",
      "\n",
      "\n",
      "Available \n",
      "in some locations\n",
      "\n",
      "\n",
      "\n",
      "Look and Be Grateful\n",
      "\n",
      "\n",
      "            by DePaola, Tomie\n",
      "\n",
      "\n",
      "\n",
      "\n",
      "          Board Book - 2019\n",
      "\n",
      "\n",
      "Available \n",
      "in some locations\n",
      "\n",
      "\n",
      "\n",
      "The Thank You Book\n",
      "\n",
      "\n",
      "            by Ray, Mary Lyn\n",
      "\n",
      "\n",
      "\n",
      "\n",
      "          Picture Book - 2018\n",
      "\n",
      "\n",
      "All copies in use \n",
      "Availability details\n",
      "\n",
      "\n",
      "\n",
      "Thank You Bees\n",
      "\n",
      "\n",
      "            by Yuly, Toni\n",
      "\n",
      "\n",
      "\n",
      "\n",
      "          Board Book - 2020\n",
      "\n",
      "\n",
      "Available \n",
      "in some locations\n",
      "\n",
      "\n",
      "\n",
      "Apple Cake\n",
      "\n",
      "\n",
      "            by Casey, Dawn\n",
      "\n",
      "\n",
      "\n",
      "\n",
      "          Picture Book - 2019\n",
      "\n",
      "\n",
      "All copies in use \n",
      "Availability details\n",
      "\n",
      "\n",
      "\n",
      "Thankful\n",
      "\n",
      "\n",
      "            by Spinelli, Eileen\n",
      "\n",
      "\n",
      "\n",
      "\n",
      "          Picture Book - 2015\n",
      "\n",
      "\n",
      "All copies in use \n",
      "Availability details\n",
      "\n",
      "\n",
      "\n",
      "Sometimes It's Hard to Be Nice\n",
      "\n",
      "\n",
      "            by Rudd, Maggie\n",
      "\n",
      "\n",
      "\n",
      "\n",
      "          Picture Book - 2021\n",
      "\n",
      "\n",
      "Available \n",
      "in some locations\n",
      "\n",
      "\n",
      "\n",
      "Bear Says Thanks\n",
      "\n",
      "\n",
      "            by Wilson, Karma\n",
      "\n",
      "\n",
      "\n",
      "\n",
      "          Picture Book - 2012\n",
      "\n",
      "\n",
      "All copies in use \n",
      "Availability details\n",
      "\n",
      "\n",
      "\n",
      "All of Me!\n",
      "\n",
      "\n",
      "            by Bang, Molly\n",
      "\n",
      "\n",
      "\n",
      "\n",
      "          Picture Book - 2009\n",
      "\n",
      "\n",
      "Available \n",
      "in some locations\n",
      "\n",
      "\n",
      "\n",
      "Lala's Words\n",
      "\n",
      "\n",
      "            by Zhang, Gracey\n",
      "\n",
      "\n",
      "\n",
      "\n",
      "          Picture Book - 2021\n",
      "\n",
      "\n",
      "Available \n",
      "in some locations\n",
      "\n",
      "\n",
      "\n",
      "The Thankful Book\n",
      "\n",
      "\n",
      "            by Parr, Todd\n",
      "\n",
      "\n",
      "\n",
      "\n",
      "          Board Book - 2018\n",
      "\n",
      "\n",
      "Available \n",
      "in some locations\n",
      "\n",
      "\n",
      "\n",
      "A Small Kindness\n",
      "\n",
      "\n",
      "            by McAnulty, Stacy\n",
      "\n",
      "\n",
      "\n",
      "\n",
      "          Picture Book - 2021\n",
      "\n",
      "\n",
      "Available \n",
      "in some locations\n",
      "\n",
      "\n",
      "\n",
      "Thanks From the Very Hungry Caterpillar\n",
      "\n",
      "\n",
      "            by Carle, Eric\n",
      "\n",
      "\n",
      "\n",
      "\n",
      "          Picture Book - 2017\n",
      "\n",
      "\n",
      "Available \n",
      "in some locations\n",
      "\n",
      "\n"
     ]
    }
   ],
   "source": [
    "\n",
    "for book_element in book_elements:\n",
    "    title_element = book_element.find('div', class_=\"list_item_title\")\n",
    "    author_element = book_element.find('div', class_=\"list_item_author\")\n",
    "    format_element = book_element.find('div', class_=\"list_item_format\")\n",
    "    available_element = book_element.find('span', class_=\"label availability\")\n",
    "    print(title_element.text)\n",
    "    print(author_element.text)\n",
    "    print(format_element.text)\n",
    "    print(available_element.text)\n",
    "    print()\n"
   ],
   "metadata": {
    "collapsed": false,
    "pycharm": {
     "name": "#%% Printing out all the book titles on the page\n"
    }
   }
  },
  {
   "cell_type": "code",
   "execution_count": 8,
   "outputs": [
    {
     "name": "stdout",
     "output_type": "stream",
     "text": [
      "What I Like Most\n",
      "by Murphy, Mary\n",
      "Picture Book - 2020\n",
      "Available \n",
      "in some locations\n",
      "\n",
      "Look and Be Grateful\n",
      "by DePaola, Tomie\n",
      "Board Book - 2019\n",
      "Available \n",
      "in some locations\n",
      "\n",
      "The Thank You Book\n",
      "by Ray, Mary Lyn\n",
      "Picture Book - 2018\n",
      "All copies in use \n",
      "Availability details\n",
      "\n",
      "Thank You Bees\n",
      "by Yuly, Toni\n",
      "Board Book - 2020\n",
      "Available \n",
      "in some locations\n",
      "\n",
      "Apple Cake\n",
      "by Casey, Dawn\n",
      "Picture Book - 2019\n",
      "All copies in use \n",
      "Availability details\n",
      "\n",
      "Thankful\n",
      "by Spinelli, Eileen\n",
      "Picture Book - 2015\n",
      "All copies in use \n",
      "Availability details\n",
      "\n",
      "Sometimes It's Hard to Be Nice\n",
      "by Rudd, Maggie\n",
      "Picture Book - 2021\n",
      "Available \n",
      "in some locations\n",
      "\n",
      "Bear Says Thanks\n",
      "by Wilson, Karma\n",
      "Picture Book - 2012\n",
      "All copies in use \n",
      "Availability details\n",
      "\n",
      "All of Me!\n",
      "by Bang, Molly\n",
      "Picture Book - 2009\n",
      "Available \n",
      "in some locations\n",
      "\n",
      "Lala's Words\n",
      "by Zhang, Gracey\n",
      "Picture Book - 2021\n",
      "Available \n",
      "in some locations\n",
      "\n",
      "The Thankful Book\n",
      "by Parr, Todd\n",
      "Board Book - 2018\n",
      "Available \n",
      "in some locations\n",
      "\n",
      "A Small Kindness\n",
      "by McAnulty, Stacy\n",
      "Picture Book - 2021\n",
      "Available \n",
      "in some locations\n",
      "\n",
      "Thanks From the Very Hungry Caterpillar\n",
      "by Carle, Eric\n",
      "Picture Book - 2017\n",
      "Available \n",
      "in some locations\n",
      "\n"
     ]
    }
   ],
   "source": [
    "for book_element in book_elements:\n",
    "    title_element = book_element.find('div', class_=\"list_item_title\")\n",
    "    author_element = book_element.find('div', class_=\"list_item_author\")\n",
    "    format_element = book_element.find('div', class_=\"list_item_format\")\n",
    "    available_element = book_element.find('span', class_=\"label availability\")\n",
    "    print(title_element.text.strip())\n",
    "    print(author_element.text.strip())\n",
    "    print(format_element.text.strip())\n",
    "    print(available_element.text.strip())\n",
    "    print()"
   ],
   "metadata": {
    "collapsed": false,
    "pycharm": {
     "name": "#%% Stripping unwanted space around text\n"
    }
   }
  },
  {
   "cell_type": "code",
   "execution_count": 9,
   "outputs": [
    {
     "name": "stdout",
     "output_type": "stream",
     "text": [
      "10\n"
     ]
    }
   ],
   "source": [
    "picture_books = results(text=lambda t: \"Picture Book\" in t)\n",
    "print(len(picture_books))"
   ],
   "metadata": {
    "collapsed": false,
    "pycharm": {
     "name": "#%% Finding the amount of picture books\n"
    }
   }
  },
  {
   "cell_type": "code",
   "execution_count": 10,
   "outputs": [
    {
     "name": "stdout",
     "output_type": "stream",
     "text": [
      "3\n"
     ]
    }
   ],
   "source": [
    "board_book = results(text=lambda t: \"Board Book\" in t)\n",
    "print(len(board_book))"
   ],
   "metadata": {
    "collapsed": false,
    "pycharm": {
     "name": "#%% Finding the amount of board books\n"
    }
   }
  },
  {
   "cell_type": "code",
   "execution_count": 11,
   "outputs": [
    {
     "name": "stdout",
     "output_type": "stream",
     "text": [
      "9\n"
     ]
    }
   ],
   "source": [
    "available_books = results(text=lambda t: \"Available\" in t)\n",
    "print(len(available_books))\n"
   ],
   "metadata": {
    "collapsed": false,
    "pycharm": {
     "name": "#%% Finding available books\n"
    }
   }
  },
  {
   "cell_type": "code",
   "execution_count": 12,
   "outputs": [],
   "source": [
    "books = []\n",
    "\n",
    "# Stripping the strings of unnecessary characters \\r\\n\n",
    "for item in book_elements:\n",
    "    try:\n",
    "        title = item.contents[1].find_all(\"div\",{\"class\":\"list_item_title\"})[0].text.strip()\n",
    "    except:\n",
    "        title = ''\n",
    "\n",
    "    try:\n",
    "        author = item.contents[1].find_all(\"div\", {\"class\":\"list_item_author\"})[0].text.strip()\n",
    "    except:\n",
    "        author = ''\n",
    "\n",
    "    try:\n",
    "        book_format = item.contents[1].find_all(\"div\", {\"class\": \"list_item_format\"})[0].text.strip()\n",
    "    except:\n",
    "        genre = ''\n",
    "\n",
    "    # try:\n",
    "    #     availability = item.contents.find_all(\"span\", {\"class\": \"label availability\"})[0].text\n",
    "    # except:\n",
    "    #     availability = ''\n",
    "\n",
    "    bookinfo=[title, author, book_format]\n",
    "    books.append(bookinfo)\n",
    "\n",
    "header = ['Title', 'Author', 'Book Format']\n",
    "\n",
    "with open('books.csv', 'a') as file:\n",
    "    writer=csv.writer(file)\n",
    "    writer.writerow(i for i in header)\n",
    "    for row in books:\n",
    "        writer.writerow(row)"
   ],
   "metadata": {
    "collapsed": false,
    "pycharm": {
     "name": "#%% Writing the elements to a csv file for us to read\n"
    }
   }
  },
  {
   "cell_type": "code",
   "execution_count": 28,
   "outputs": [],
   "source": [
    "csv_file = 'books.csv'\n",
    "df = pd.read_csv(csv_file)\n",
    "\n",
    "# Replace the year digits inside of Book Format column\n",
    "df['Book Format'].str.replace('\\d+','', regex=True)\n",
    "\n",
    "# Replace the floating integer in Year column\n",
    "df['Year'] = df['Year'].fillna(0.0).astype(int)\n"
   ],
   "metadata": {
    "collapsed": false,
    "pycharm": {
     "name": "#%% Read csv file\n"
    }
   }
  },
  {
   "cell_type": "code",
   "execution_count": 22,
   "outputs": [
    {
     "name": "stdout",
     "output_type": "stream",
     "text": [
      "<class 'pandas.core.frame.DataFrame'>\n",
      "RangeIndex: 13 entries, 0 to 12\n",
      "Data columns (total 4 columns):\n",
      " #   Column       Non-Null Count  Dtype \n",
      "---  ------       --------------  ----- \n",
      " 0   Title        13 non-null     object\n",
      " 1   Author       13 non-null     object\n",
      " 2   Book Format  13 non-null     object\n",
      " 3   Year         13 non-null     int32 \n",
      "dtypes: int32(1), object(3)\n",
      "memory usage: 492.0+ bytes\n"
     ]
    }
   ],
   "source": [
    "df.to_csv(csv_file, index=False)\n",
    "df.info()"
   ],
   "metadata": {
    "collapsed": false,
    "pycharm": {
     "name": "#%%\n"
    }
   }
  },
  {
   "cell_type": "code",
   "execution_count": 23,
   "outputs": [
    {
     "data": {
      "text/plain": "                  Title             Author      Book Format  Year\n0      What I Like Most    by Murphy, Mary  Picture Book -   2020\n1  Look and Be Grateful  by DePaola, Tomie    Board Book -   2019\n2    The Thank You Book   by Ray, Mary Lyn  Picture Book -   2018\n3        Thank You Bees      by Yuly, Toni    Board Book -   2020\n4            Apple Cake     by Casey, Dawn  Picture Book -   2019",
      "text/html": "<div>\n<style scoped>\n    .dataframe tbody tr th:only-of-type {\n        vertical-align: middle;\n    }\n\n    .dataframe tbody tr th {\n        vertical-align: top;\n    }\n\n    .dataframe thead th {\n        text-align: right;\n    }\n</style>\n<table border=\"1\" class=\"dataframe\">\n  <thead>\n    <tr style=\"text-align: right;\">\n      <th></th>\n      <th>Title</th>\n      <th>Author</th>\n      <th>Book Format</th>\n      <th>Year</th>\n    </tr>\n  </thead>\n  <tbody>\n    <tr>\n      <th>0</th>\n      <td>What I Like Most</td>\n      <td>by Murphy, Mary</td>\n      <td>Picture Book -</td>\n      <td>2020</td>\n    </tr>\n    <tr>\n      <th>1</th>\n      <td>Look and Be Grateful</td>\n      <td>by DePaola, Tomie</td>\n      <td>Board Book -</td>\n      <td>2019</td>\n    </tr>\n    <tr>\n      <th>2</th>\n      <td>The Thank You Book</td>\n      <td>by Ray, Mary Lyn</td>\n      <td>Picture Book -</td>\n      <td>2018</td>\n    </tr>\n    <tr>\n      <th>3</th>\n      <td>Thank You Bees</td>\n      <td>by Yuly, Toni</td>\n      <td>Board Book -</td>\n      <td>2020</td>\n    </tr>\n    <tr>\n      <th>4</th>\n      <td>Apple Cake</td>\n      <td>by Casey, Dawn</td>\n      <td>Picture Book -</td>\n      <td>2019</td>\n    </tr>\n  </tbody>\n</table>\n</div>"
     },
     "execution_count": 23,
     "metadata": {},
     "output_type": "execute_result"
    }
   ],
   "source": [
    "df.head()"
   ],
   "metadata": {
    "collapsed": false,
    "pycharm": {
     "name": "#%%\n"
    }
   }
  },
  {
   "cell_type": "code",
   "execution_count": 25,
   "outputs": [
    {
     "data": {
      "text/plain": "<AxesSubplot:xlabel='Book Format', ylabel='count'>"
     },
     "execution_count": 25,
     "metadata": {},
     "output_type": "execute_result"
    },
    {
     "data": {
      "text/plain": "<Figure size 432x288 with 1 Axes>",
      "image/png": "[encoded data removed]"
     },
     "metadata": {},
     "output_type": "display_data"
    }
   ],
   "source": [
    "sns.countplot(x='Book Format', data=df, palette='Set2')\n"
   ],
   "metadata": {
    "collapsed": false,
    "pycharm": {
     "name": "#%% Plotting the Book Format\n"
    }
   }
  },
  {
   "cell_type": "code",
   "execution_count": 26,
   "outputs": [
    {
     "data": {
      "text/plain": "Text(0.5, 1.0, 'Books by Year')"
     },
     "execution_count": 26,
     "metadata": {},
     "output_type": "execute_result"
    },
    {
     "data": {
      "text/plain": "<Figure size 432x288 with 1 Axes>",
      "image/png": "[encoded data removed]"
     },
     "metadata": {},
     "output_type": "display_data"
    }
   ],
   "source": [
    "sns.countplot(x='Year', data=df, palette='Set2',\n",
    "                   order=df.Year.value_counts().index).set_title('Books by Year')"
   ],
   "metadata": {
    "collapsed": false,
    "pycharm": {
     "name": "#%% Plotting the year release\n"
    }
   }
  },
  {
   "cell_type": "code",
   "execution_count": 17,
   "outputs": [],
   "source": [],
   "metadata": {
    "collapsed": false,
    "pycharm": {
     "name": "#%%\n"
    }
   }
  }
 ],
 "metadata": {
  "kernelspec": {
   "display_name": "Python 3",
   "language": "python",
   "name": "python3"
  },
  "language_info": {
   "codemirror_mode": {
    "name": "ipython",
    "version": 2
   },
   "file_extension": ".py",
   "mimetype": "text/x-python",
   "name": "python",
   "nbconvert_exporter": "python",
   "pygments_lexer": "ipython2",
   "version": "2.7.6"
  }
 },
 "nbformat": 4,
 "nbformat_minor": 0
}