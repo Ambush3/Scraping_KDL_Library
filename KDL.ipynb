{
 "cells": [
  {
   "cell_type": "code",
   "execution_count": 1,
   "outputs": [],
   "source": [
    "from bs4 import BeautifulSoup\n",
    "from requests import get\n",
    "import pandas as pd\n",
    "import itertools\n",
    "import matplotlib.pyplot as plt\n",
    "import seaborn as sns\n",
    "sns.set()\n"
   ],
   "metadata": {
    "collapsed": false,
    "pycharm": {
     "name": "#%% import libraries\n"
    }
   }
  },
  {
   "cell_type": "code",
   "execution_count": 2,
   "outputs": [],
   "source": [
    "headers = ({'User-Agent':\n",
    "            'Mozilla/5.0 (Windows NT 6.1) AppleWebKit/537.36 (KHTML, like Gecko) Chrome/41.0.2228.0 Safari/537.36'})\n",
    "\n",
    "library = \"https://kdl.bibliocommons.com/list/share/1709633629_kdl_earlyliteracy/1992750309_picture_books_for_grateful_readers\"\n",
    "\n",
    "response = get(library, headers=headers)"
   ],
   "metadata": {
    "collapsed": false,
    "pycharm": {
     "name": "#%% Define a header to pass the get command. Making it look like a legit browser is accessing the site.\n"
    }
   }
  },
  {
   "cell_type": "code",
   "execution_count": 3,
   "outputs": [
    {
     "name": "stdout",
     "output_type": "stream",
     "text": [
      "<Response [200]>\n",
      "<!-- APPLICATION LAYOUT -->\n",
      "\n",
      "\n",
      "\n",
      "\n",
      "\n",
      "<!DOCTYPE html>\n",
      "<html xmlns:og=\"http://ogp.me/ns#\" lang=\"en-US\">\n",
      "<head>\n",
      "  <!-- Data Layer -->\n",
      "<script>\n",
      "  window.dataLayer = window.dataLayer || [{\"bc.siteId\":\"MI-KENT-KDL\",\"bc.libraryId\":174,\"bc.localBranch\":null,\"bc.shortName\":\"KDL\",\"bc.longName\":\"Kent District Library\",\"bc.domain\":\"kdl\",\"bc.externalGaId\":\"UA-1801889-1\",\"bc.gaCrossDomainNames\":[],\"bc.gaCrossDomainEnabled\":true,\"bc.cmsEnabled\":true,\"bc.cmsUrl\":\"https://kdl.org\",\"bc.crazyEggId\":\"00178067\",\"bc.allowGoogleAdFeatures\":false,\"bc.product\":\"core\",\"bc.branch\":null,\"bc.version\":\"Version 9.3.0 Last updated 2021/10/13 12:50 [cor-liv-app19]\"}];\n",
      "</script>\n",
      "<!-- end Data Layer -->\n",
      "<!-- Start Google Tag Manager-->\n",
      "<script>(function(w,d,s,l,i)\n",
      "{\n",
      "  w[l]=w[l]||[];w[l].push({'gtm.start': new Date().getTime(),event:'gtm.js'});\n",
      "  \n",
      "  var f=d.getElementsByTagName(s)[0], j=d.createElement(s),dl=l!='dataLayer'?'&l='+l:'';\n",
      "  \n",
      "  j.async=true;\n",
      "  j.src='https://www.googletagmanager.com/gtm.js?id='+i+dl+'';\n",
      "  f.paren\n"
     ]
    }
   ],
   "source": [
    "print(response)\n",
    "\n",
    "print(response.text[:1000])"
   ],
   "metadata": {
    "collapsed": false,
    "pycharm": {
     "name": "#%% Testing connection and first 1000 char.\n"
    }
   }
  },
  {
   "cell_type": "code",
   "execution_count": 15,
   "outputs": [
    {
     "name": "stdout",
     "output_type": "stream",
     "text": [
      "[<div class=\"list_item_author\">\n",
      "            by <a data-analytics='{\"event\":\"bc.clickOnAuthorLink\",\"payload\":{\"gtmCategory\":\"v2-page-interactions\",\"gtmAction\":\"v2-link-click\",\"gtmLabel\":\"bib-author\",\"gtmValue\":1}}' href=\"/search?q=%22Murphy%2C+Mary%22&amp;search_category=author&amp;t=author\" target=\"_parent\" testid=\"author_search\">Murphy, Mary</a>\n",
      "<br/>\n",
      "</div>, <div class=\"list_item_author\">\n",
      "            by <a data-analytics='{\"event\":\"bc.clickOnAuthorLink\",\"payload\":{\"gtmCategory\":\"v2-page-interactions\",\"gtmAction\":\"v2-link-click\",\"gtmLabel\":\"bib-author\",\"gtmValue\":1}}' href=\"/search?q=%22DePaola%2C+Tomie%22&amp;search_category=author&amp;t=author\" target=\"_parent\" testid=\"author_search\">DePaola, Tomie</a>\n",
      "<br/>\n",
      "</div>, <div class=\"list_item_author\">\n",
      "            by <a data-analytics='{\"event\":\"bc.clickOnAuthorLink\",\"payload\":{\"gtmCategory\":\"v2-page-interactions\",\"gtmAction\":\"v2-link-click\",\"gtmLabel\":\"bib-author\",\"gtmValue\":1}}' href=\"/search?q=%22Ray%2C+Mary+Lyn%22&amp;search_category=author&amp;t=author\" target=\"_parent\" testid=\"author_search\">Ray, Mary Lyn</a>\n",
      "<br/>\n",
      "</div>, <div class=\"list_item_author\">\n",
      "            by <a data-analytics='{\"event\":\"bc.clickOnAuthorLink\",\"payload\":{\"gtmCategory\":\"v2-page-interactions\",\"gtmAction\":\"v2-link-click\",\"gtmLabel\":\"bib-author\",\"gtmValue\":1}}' href=\"/search?q=%22Yuly%2C+Toni%22&amp;search_category=author&amp;t=author\" target=\"_parent\" testid=\"author_search\">Yuly, Toni</a>\n",
      "<br/>\n",
      "</div>, <div class=\"list_item_author\">\n",
      "            by <a data-analytics='{\"event\":\"bc.clickOnAuthorLink\",\"payload\":{\"gtmCategory\":\"v2-page-interactions\",\"gtmAction\":\"v2-link-click\",\"gtmLabel\":\"bib-author\",\"gtmValue\":1}}' href=\"/search?q=%22Casey%2C+Dawn%22&amp;search_category=author&amp;t=author\" target=\"_parent\" testid=\"author_search\">Casey, Dawn</a>\n",
      "<br/>\n",
      "</div>, <div class=\"list_item_author\">\n",
      "            by <a data-analytics='{\"event\":\"bc.clickOnAuthorLink\",\"payload\":{\"gtmCategory\":\"v2-page-interactions\",\"gtmAction\":\"v2-link-click\",\"gtmLabel\":\"bib-author\",\"gtmValue\":1}}' href=\"/search?q=%22Spinelli%2C+Eileen%22&amp;search_category=author&amp;t=author\" target=\"_parent\" testid=\"author_search\">Spinelli, Eileen</a>\n",
      "<br/>\n",
      "</div>, <div class=\"list_item_author\">\n",
      "            by <a data-analytics='{\"event\":\"bc.clickOnAuthorLink\",\"payload\":{\"gtmCategory\":\"v2-page-interactions\",\"gtmAction\":\"v2-link-click\",\"gtmLabel\":\"bib-author\",\"gtmValue\":1}}' href=\"/search?q=%22Rudd%2C+Maggie%22&amp;search_category=author&amp;t=author\" target=\"_parent\" testid=\"author_search\">Rudd, Maggie</a>\n",
      "<br/>\n",
      "</div>, <div class=\"list_item_author\">\n",
      "            by <a data-analytics='{\"event\":\"bc.clickOnAuthorLink\",\"payload\":{\"gtmCategory\":\"v2-page-interactions\",\"gtmAction\":\"v2-link-click\",\"gtmLabel\":\"bib-author\",\"gtmValue\":1}}' href=\"/search?q=%22Wilson%2C+Karma%22&amp;search_category=author&amp;t=author\" target=\"_parent\" testid=\"author_search\">Wilson, Karma</a>\n",
      "<br/>\n",
      "</div>, <div class=\"list_item_author\">\n",
      "            by <a data-analytics='{\"event\":\"bc.clickOnAuthorLink\",\"payload\":{\"gtmCategory\":\"v2-page-interactions\",\"gtmAction\":\"v2-link-click\",\"gtmLabel\":\"bib-author\",\"gtmValue\":1}}' href=\"/search?q=%22Bang%2C+Molly%22&amp;search_category=author&amp;t=author\" target=\"_parent\" testid=\"author_search\">Bang, Molly</a>\n",
      "<br/>\n",
      "</div>, <div class=\"list_item_author\">\n",
      "            by <a data-analytics='{\"event\":\"bc.clickOnAuthorLink\",\"payload\":{\"gtmCategory\":\"v2-page-interactions\",\"gtmAction\":\"v2-link-click\",\"gtmLabel\":\"bib-author\",\"gtmValue\":1}}' href=\"/search?q=%22Zhang%2C+Gracey%22&amp;search_category=author&amp;t=author\" target=\"_parent\" testid=\"author_search\">Zhang, Gracey</a>\n",
      "<br/>\n",
      "</div>, <div class=\"list_item_author\">\n",
      "            by <a data-analytics='{\"event\":\"bc.clickOnAuthorLink\",\"payload\":{\"gtmCategory\":\"v2-page-interactions\",\"gtmAction\":\"v2-link-click\",\"gtmLabel\":\"bib-author\",\"gtmValue\":1}}' href=\"/search?q=%22Parr%2C+Todd%22&amp;search_category=author&amp;t=author\" target=\"_parent\" testid=\"author_search\">Parr, Todd</a>\n",
      "<br/>\n",
      "</div>, <div class=\"list_item_author\">\n",
      "            by <a data-analytics='{\"event\":\"bc.clickOnAuthorLink\",\"payload\":{\"gtmCategory\":\"v2-page-interactions\",\"gtmAction\":\"v2-link-click\",\"gtmLabel\":\"bib-author\",\"gtmValue\":1}}' href=\"/search?q=%22McAnulty%2C+Stacy%22&amp;search_category=author&amp;t=author\" target=\"_parent\" testid=\"author_search\">McAnulty, Stacy</a>\n",
      "<br/>\n",
      "</div>, <div class=\"list_item_author\">\n",
      "            by <a data-analytics='{\"event\":\"bc.clickOnAuthorLink\",\"payload\":{\"gtmCategory\":\"v2-page-interactions\",\"gtmAction\":\"v2-link-click\",\"gtmLabel\":\"bib-author\",\"gtmValue\":1}}' href=\"/search?q=%22Carle%2C+Eric%22&amp;search_category=author&amp;t=author\" target=\"_parent\" testid=\"author_search\">Carle, Eric</a>\n",
      "<br/>\n",
      "</div>]\n",
      "<div class=\"list_item_title\">\n",
      " <a data-analytics='{\"event\":\"bc.clickOnBibTitleLink\",\"payload\":{\"gtmCategory\":\"v2-page-interactions\",\"gtmAction\":\"v2-title-click\",\"gtmLabel\":\"bib-title\",\"gtmValue\":1}}' href=\"/item/show/749994174\">\n",
      "  What I Like Most\n",
      " </a>\n",
      "</div>\n",
      "\n"
     ]
    }
   ],
   "source": [
    "html_soup = BeautifulSoup(response.text, 'html.parser')\n",
    "\n",
    "book_titles = html_soup.find_all('div', class_=\"list_item_title\")\n",
    "# print(book_title)\n",
    "author = html_soup.find_all('div', class_=\"list_item_author\")\n",
    "print(author)\n",
    "\n",
    "first = book_titles[0]\n",
    "# print(first)\n",
    "\n",
    "second = book_titles[1]\n",
    "# print(second)\n",
    "\n",
    "print(first.prettify())\n",
    "# title = first.find_all('w', class_=\"list_item_title\")[1].text\n",
    "# title[:title.find(',')]"
   ],
   "metadata": {
    "collapsed": false,
    "pycharm": {
     "name": "#%%\n"
    }
   }
  }
 ],
 "metadata": {
  "kernelspec": {
   "display_name": "Python 3",
   "language": "python",
   "name": "python3"
  },
  "language_info": {
   "codemirror_mode": {
    "name": "ipython",
    "version": 2
   },
   "file_extension": ".py",
   "mimetype": "text/x-python",
   "name": "python",
   "nbconvert_exporter": "python",
   "pygments_lexer": "ipython2",
   "version": "2.7.6"
  }
 },
 "nbformat": 4,
 "nbformat_minor": 0
}